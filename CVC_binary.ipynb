{
 "cells": [
  {
   "cell_type": "code",
   "execution_count": 1,
   "id": "e2b988fd-c4c7-4121-a5a7-2cd4650e3e1f",
   "metadata": {},
   "outputs": [
    {
     "name": "stderr",
     "output_type": "stream",
     "text": [
      "2024-10-12 12:47:46.730396: I tensorflow/core/platform/cpu_feature_guard.cc:193] This TensorFlow binary is optimized with oneAPI Deep Neural Network Library (oneDNN) to use the following CPU instructions in performance-critical operations:  SSE4.1 SSE4.2 AVX AVX2 AVX512F FMA\n",
      "To enable them in other operations, rebuild TensorFlow with the appropriate compiler flags.\n"
     ]
    }
   ],
   "source": [
    "# import libraries\n",
    "import pandas as pd\n",
    "import numpy as np\n",
    "import matplotlib.pyplot as plt\n",
    "from sklearn.model_selection import train_test_split\n",
    "import seaborn as sns\n",
    "\n",
    "# modelling\n",
    "import tensorflow as tf\n",
    "from tensorflow.keras.applications import ResNet50, EfficientNetB0\n",
    "from tensorflow.keras.models import Sequential, Model\n",
    "from tensorflow.keras.layers import Dense, Flatten, Dropout, GlobalAveragePooling2D\n",
    "from tensorflow.keras.preprocessing.image import ImageDataGenerator\n",
    "from tensorflow.keras.callbacks import EarlyStopping\n",
    "from tensorflow.keras.optimizers import Adam\n",
    "from sklearn.utils import resample\n",
    "\n",
    "pd.set_option('display.max_colwidth', None)"
   ]
  },
  {
   "cell_type": "code",
   "execution_count": 2,
   "id": "e322181c-7b54-422d-9123-faa37441d38a",
   "metadata": {},
   "outputs": [],
   "source": [
    "train_data = pd.read_csv('/projects/sc73/ranzcr-clip-catheter-line-classification/train.csv')\n",
    "train_annot = pd.read_csv('/projects/sc73/ranzcr-clip-catheter-line-classification/train_annotations.csv')"
   ]
  },
  {
   "cell_type": "markdown",
   "id": "936636e6-98fd-4d55-b9c8-26abdafc7ac2",
   "metadata": {},
   "source": [
    "# Filtering data to only images with annotations"
   ]
  },
  {
   "cell_type": "code",
   "execution_count": 9,
   "id": "1b50d32f-1d64-4462-98e5-742af55cb64a",
   "metadata": {},
   "outputs": [
    {
     "data": {
      "text/html": [
       "<div>\n",
       "<style scoped>\n",
       "    .dataframe tbody tr th:only-of-type {\n",
       "        vertical-align: middle;\n",
       "    }\n",
       "\n",
       "    .dataframe tbody tr th {\n",
       "        vertical-align: top;\n",
       "    }\n",
       "\n",
       "    .dataframe thead th {\n",
       "        text-align: right;\n",
       "    }\n",
       "</style>\n",
       "<table border=\"1\" class=\"dataframe\">\n",
       "  <thead>\n",
       "    <tr style=\"text-align: right;\">\n",
       "      <th></th>\n",
       "      <th>StudyInstanceUID</th>\n",
       "      <th>ETT - Abnormal</th>\n",
       "      <th>ETT - Borderline</th>\n",
       "      <th>ETT - Normal</th>\n",
       "      <th>NGT - Abnormal</th>\n",
       "      <th>NGT - Borderline</th>\n",
       "      <th>NGT - Incompletely Imaged</th>\n",
       "      <th>NGT - Normal</th>\n",
       "      <th>CVC - Abnormal</th>\n",
       "      <th>CVC - Borderline</th>\n",
       "      <th>CVC - Normal</th>\n",
       "      <th>Swan Ganz Catheter Present</th>\n",
       "      <th>PatientID</th>\n",
       "    </tr>\n",
       "  </thead>\n",
       "  <tbody>\n",
       "    <tr>\n",
       "      <th>2</th>\n",
       "      <td>1.2.826.0.1.3680043.8.498.23819260719748494858948050424870692577</td>\n",
       "      <td>0</td>\n",
       "      <td>0</td>\n",
       "      <td>0</td>\n",
       "      <td>0</td>\n",
       "      <td>0</td>\n",
       "      <td>0</td>\n",
       "      <td>0</td>\n",
       "      <td>0</td>\n",
       "      <td>1</td>\n",
       "      <td>0</td>\n",
       "      <td>0</td>\n",
       "      <td>3fc1c97e5</td>\n",
       "    </tr>\n",
       "  </tbody>\n",
       "</table>\n",
       "</div>"
      ],
      "text/plain": [
       "                                                   StudyInstanceUID  \\\n",
       "2  1.2.826.0.1.3680043.8.498.23819260719748494858948050424870692577   \n",
       "\n",
       "   ETT - Abnormal  ETT - Borderline  ETT - Normal  NGT - Abnormal  \\\n",
       "2               0                 0             0               0   \n",
       "\n",
       "   NGT - Borderline  NGT - Incompletely Imaged  NGT - Normal  CVC - Abnormal  \\\n",
       "2                 0                          0             0               0   \n",
       "\n",
       "   CVC - Borderline  CVC - Normal  Swan Ganz Catheter Present  PatientID  \n",
       "2                 1             0                           0  3fc1c97e5  "
      ]
     },
     "execution_count": 9,
     "metadata": {},
     "output_type": "execute_result"
    }
   ],
   "source": [
    "unique_annotated_images =  train_annot['StudyInstanceUID'].unique()\n",
    "annotated = train_data[train_data['StudyInstanceUID'].isin(unique_annotated_images)]\n",
    "annotated.head(1)"
   ]
  },
  {
   "cell_type": "code",
   "execution_count": 16,
   "id": "0551db50-b144-47db-8825-7801f5e2b4b0",
   "metadata": {},
   "outputs": [
    {
     "data": {
      "text/plain": [
       "(9095, 13)"
      ]
     },
     "execution_count": 16,
     "metadata": {},
     "output_type": "execute_result"
    }
   ],
   "source": [
    "annotated.shape"
   ]
  },
  {
   "cell_type": "markdown",
   "id": "df2ecc47-5b28-4323-a1e8-956d10c92b23",
   "metadata": {},
   "source": [
    "There are 9095 images with annotations"
   ]
  },
  {
   "cell_type": "markdown",
   "id": "db07af9e-578d-4f8d-a423-09ca74b7d1b9",
   "metadata": {},
   "source": [
    "# Creating CVC binary/numeric"
   ]
  },
  {
   "cell_type": "code",
   "execution_count": 12,
   "id": "85226026-3969-41fc-83e5-eec65f01f644",
   "metadata": {},
   "outputs": [
    {
     "data": {
      "text/html": [
       "<div>\n",
       "<style scoped>\n",
       "    .dataframe tbody tr th:only-of-type {\n",
       "        vertical-align: middle;\n",
       "    }\n",
       "\n",
       "    .dataframe tbody tr th {\n",
       "        vertical-align: top;\n",
       "    }\n",
       "\n",
       "    .dataframe thead th {\n",
       "        text-align: right;\n",
       "    }\n",
       "</style>\n",
       "<table border=\"1\" class=\"dataframe\">\n",
       "  <thead>\n",
       "    <tr style=\"text-align: right;\">\n",
       "      <th></th>\n",
       "      <th>StudyInstanceUID</th>\n",
       "      <th>ETT - Abnormal</th>\n",
       "      <th>ETT - Borderline</th>\n",
       "      <th>ETT - Normal</th>\n",
       "      <th>NGT - Abnormal</th>\n",
       "      <th>NGT - Borderline</th>\n",
       "      <th>NGT - Incompletely Imaged</th>\n",
       "      <th>NGT - Normal</th>\n",
       "      <th>CVC - Abnormal</th>\n",
       "      <th>CVC - Borderline</th>\n",
       "      <th>CVC - Normal</th>\n",
       "      <th>Swan Ganz Catheter Present</th>\n",
       "      <th>PatientID</th>\n",
       "      <th>CVC_binary</th>\n",
       "      <th>CVC_numeric</th>\n",
       "    </tr>\n",
       "  </thead>\n",
       "  <tbody>\n",
       "    <tr>\n",
       "      <th>2</th>\n",
       "      <td>1.2.826.0.1.3680043.8.498.23819260719748494858948050424870692577</td>\n",
       "      <td>0</td>\n",
       "      <td>0</td>\n",
       "      <td>0</td>\n",
       "      <td>0</td>\n",
       "      <td>0</td>\n",
       "      <td>0</td>\n",
       "      <td>0</td>\n",
       "      <td>0</td>\n",
       "      <td>1</td>\n",
       "      <td>0</td>\n",
       "      <td>0</td>\n",
       "      <td>3fc1c97e5</td>\n",
       "      <td>CVC</td>\n",
       "      <td>1</td>\n",
       "    </tr>\n",
       "  </tbody>\n",
       "</table>\n",
       "</div>"
      ],
      "text/plain": [
       "                                                   StudyInstanceUID  \\\n",
       "2  1.2.826.0.1.3680043.8.498.23819260719748494858948050424870692577   \n",
       "\n",
       "   ETT - Abnormal  ETT - Borderline  ETT - Normal  NGT - Abnormal  \\\n",
       "2               0                 0             0               0   \n",
       "\n",
       "   NGT - Borderline  NGT - Incompletely Imaged  NGT - Normal  CVC - Abnormal  \\\n",
       "2                 0                          0             0               0   \n",
       "\n",
       "   CVC - Borderline  CVC - Normal  Swan Ganz Catheter Present  PatientID  \\\n",
       "2                 1             0                           0  3fc1c97e5   \n",
       "\n",
       "  CVC_binary  CVC_numeric  \n",
       "2        CVC            1  "
      ]
     },
     "execution_count": 12,
     "metadata": {},
     "output_type": "execute_result"
    }
   ],
   "source": [
    "df = annotated.copy()\n",
    "\n",
    "def classify_cvc(row):\n",
    "    if row['CVC - Abnormal'] == 1 or row['CVC - Borderline'] == 1 or row['CVC - Normal'] == 1:\n",
    "        return 'CVC'  # Label as 'CVC'\n",
    "    else:\n",
    "        return 'non-CVC'  # Label as 'non-CVC'\n",
    "\n",
    "# Apply the function to create a new binary label column\n",
    "df['CVC_binary'] = df.apply(classify_cvc, axis=1)\n",
    "df['CVC_numeric'] = df['CVC_binary'].map({'CVC': 1, 'non-CVC': 0})\n",
    "df.head(1)"
   ]
  },
  {
   "cell_type": "code",
   "execution_count": 13,
   "id": "2bd21b8e-96ed-4842-b9ca-d1cd0c413de0",
   "metadata": {},
   "outputs": [],
   "source": [
    "img_dir = \"/projects/sc73/ranzcr-clip-catheter-line-classification/train/\"\n",
    "df['filename'] = img_dir + df['StudyInstanceUID'].astype(str) + \".jpg\""
   ]
  },
  {
   "cell_type": "markdown",
   "id": "396aba67-c9d9-4345-b1ef-faa3d246866f",
   "metadata": {},
   "source": [
    "# Balancing CVC and non-CVC"
   ]
  },
  {
   "cell_type": "code",
   "execution_count": 14,
   "id": "93f93a84-ba52-42d0-9143-9b7c06c37530",
   "metadata": {
    "scrolled": true
   },
   "outputs": [
    {
     "data": {
      "text/plain": [
       "CVC_numeric\n",
       "1    8866\n",
       "0     229\n",
       "Name: count, dtype: int64"
      ]
     },
     "execution_count": 14,
     "metadata": {},
     "output_type": "execute_result"
    }
   ],
   "source": [
    "df['CVC_numeric'].value_counts()"
   ]
  },
  {
   "cell_type": "markdown",
   "id": "a0c91c5e-2e11-4872-a1b6-d46a90e8fa68",
   "metadata": {},
   "source": [
    "There are 8866 CVC type, 229 non-CVC type"
   ]
  },
  {
   "cell_type": "code",
   "execution_count": 17,
   "id": "8e9c22f8-792d-42af-b79e-f21e24bc3c16",
   "metadata": {},
   "outputs": [
    {
     "data": {
      "text/plain": [
       "CVC_numeric\n",
       "0    8866\n",
       "1    8866\n",
       "Name: count, dtype: int64"
      ]
     },
     "execution_count": 17,
     "metadata": {},
     "output_type": "execute_result"
    }
   ],
   "source": [
    "non_CVC = df[df['CVC_numeric'] == 0]\n",
    "CVC = df[df['CVC_numeric'] == 1]\n",
    "\n",
    "\n",
    "non_CVC_bal = resample(non_CVC, \n",
    "                       replace=True,    \n",
    "                       n_samples=int(len(CVC)),  \n",
    "                       random_state=42)\n",
    "CVC_bal = resample(CVC,\n",
    "                   replace=True,\n",
    "                   n_samples=int(len(CVC)),\n",
    "                   random_state=42)\n",
    "\n",
    "bal_df = pd.concat([CVC_bal, non_CVC_bal])\n",
    "bal_df = bal_df.sample(frac=1, random_state=42).reset_index(drop=True)\n",
    "bal_df['CVC_numeric'].value_counts()"
   ]
  },
  {
   "cell_type": "markdown",
   "id": "7ebc0d41-105a-49e7-a18a-0c9d915a7a18",
   "metadata": {},
   "source": [
    "# Modelling CVC binary RESnet"
   ]
  },
  {
   "cell_type": "code",
   "execution_count": 18,
   "id": "ee525f96-af4e-4a39-938c-441cc2a71c1e",
   "metadata": {},
   "outputs": [
    {
     "name": "stdout",
     "output_type": "stream",
     "text": [
      "Found 14186 validated image filenames belonging to 2 classes.\n",
      "Found 3546 validated image filenames belonging to 2 classes.\n"
     ]
    }
   ],
   "source": [
    "# Data preprocessing and augmentation\n",
    "img_size = (224, 224)\n",
    "batch_size = 32\n",
    "validation_split = 0.2  # 20% of the data will be used for validation\n",
    "\n",
    "# Create a data generator with validation split\n",
    "datagen = ImageDataGenerator(\n",
    "    rescale=1./255,\n",
    "    rotation_range=20,\n",
    "    width_shift_range=0.2,\n",
    "    height_shift_range=0.2,\n",
    "    shear_range=0.2,\n",
    "    zoom_range=0.2,\n",
    "    horizontal_flip=True,\n",
    "    fill_mode='nearest',\n",
    "    validation_split=validation_split  # Set validation split\n",
    ")\n",
    "\n",
    "\n",
    "# Training generator (80% of the data)\n",
    "train_generator = datagen.flow_from_dataframe(\n",
    "    dataframe=bal_df,\n",
    "    x_col='filename',         # Column with image file paths\n",
    "    y_col='CVC_binary',       # Use the new binary label column\n",
    "    target_size=(224, 224),\n",
    "    batch_size=32,\n",
    "    class_mode='binary',      # Binary classification\n",
    "    subset='training',\n",
    "    shuffle=True\n",
    ")\n",
    "\n",
    "\n",
    "\n",
    "# validation generator (20% of data)\n",
    "val_generator = datagen.flow_from_dataframe(\n",
    "    dataframe=bal_df,\n",
    "    x_col='filename',         # Column with image file paths\n",
    "    y_col='CVC_binary',       # Use the new binary label column\n",
    "    target_size=(224, 224),\n",
    "    batch_size=32,\n",
    "    class_mode='binary',\n",
    "    subset='validation', # Use validation subset\n",
    "    shuffle = True\n",
    ")\n",
    "\n",
    "early_stopping = EarlyStopping(monitor='val_loss', patience=3, restore_best_weights=True)"
   ]
  },
  {
   "cell_type": "code",
   "execution_count": 19,
   "id": "9aeceedf-ec9a-4db3-85d5-0288c43ad99d",
   "metadata": {},
   "outputs": [
    {
     "name": "stderr",
     "output_type": "stream",
     "text": [
      "2024-10-12 12:55:17.914517: W tensorflow/compiler/xla/stream_executor/platform/default/dso_loader.cc:64] Could not load dynamic library 'libcuda.so.1'; dlerror: libcuda.so.1: cannot open shared object file: No such file or directory; LD_LIBRARY_PATH: /usr/local/cuda/11.0/extras/CUPTI/lib64:/usr/local/cuda/11.0/lib64:/usr/local/cuda/11.0/lib:/usr/local/cuda/11.0/lib64/stubs\n",
      "2024-10-12 12:55:17.914568: W tensorflow/compiler/xla/stream_executor/cuda/cuda_driver.cc:265] failed call to cuInit: UNKNOWN ERROR (303)\n",
      "2024-10-12 12:55:17.914590: I tensorflow/compiler/xla/stream_executor/cuda/cuda_diagnostics.cc:156] kernel driver does not appear to be running on this host (m3i004): /proc/driver/nvidia/version does not exist\n",
      "2024-10-12 12:55:17.914849: I tensorflow/core/platform/cpu_feature_guard.cc:193] This TensorFlow binary is optimized with oneAPI Deep Neural Network Library (oneDNN) to use the following CPU instructions in performance-critical operations:  SSE4.1 SSE4.2 AVX AVX2 AVX512F FMA\n",
      "To enable them in other operations, rebuild TensorFlow with the appropriate compiler flags.\n"
     ]
    }
   ],
   "source": [
    "resnet = ResNet50(weights='imagenet', include_top=False, input_shape=(224, 224, 3))\n",
    "\n",
    "# Freeze the ResNet50 layers to retain the pre-trained weights\n",
    "for layer in resnet.layers:\n",
    "    layer.trainable = False\n",
    "\n",
    "# Build the model\n",
    "model = Sequential()\n",
    "\n",
    "# Add the ResNet50 base model\n",
    "model.add(resnet)\n",
    "\n",
    "# Add global average pooling to reduce the feature maps\n",
    "model.add(GlobalAveragePooling2D())\n",
    "\n",
    "# Add a fully connected dense layer\n",
    "model.add(Dense(128, activation='relu'))\n",
    "model.add(Dropout(0.5))  # Add dropout to avoid overfitting\n",
    "\n",
    "# Add the output layer for binary classification\n",
    "model.add(Dense(1, activation='sigmoid'))  # Sigmoid for binary classification\n",
    "\n",
    "# Compile the model\n",
    "model.compile(optimizer=Adam(learning_rate=0.0001),  # Use a low learning rate for fine-tuning\n",
    "              loss='binary_crossentropy',  # Binary classification\n",
    "              metrics=['accuracy'])"
   ]
  },
  {
   "cell_type": "code",
   "execution_count": 20,
   "id": "96321184-20c2-416d-84dd-4866af9c93a6",
   "metadata": {},
   "outputs": [
    {
     "name": "stdout",
     "output_type": "stream",
     "text": [
      "Epoch 1/10\n",
      "444/444 [==============================] - 2274s 5s/step - loss: 0.7178 - accuracy: 0.5154 - val_loss: 0.6872 - val_accuracy: 0.5821\n",
      "Epoch 2/10\n",
      "444/444 [==============================] - 2304s 5s/step - loss: 0.6886 - accuracy: 0.5417 - val_loss: 0.6858 - val_accuracy: 0.5877\n",
      "Epoch 3/10\n",
      "444/444 [==============================] - 2259s 5s/step - loss: 0.6857 - accuracy: 0.5487 - val_loss: 0.6836 - val_accuracy: 0.5897\n",
      "Epoch 4/10\n",
      "444/444 [==============================] - 2259s 5s/step - loss: 0.6838 - accuracy: 0.5473 - val_loss: 0.6826 - val_accuracy: 0.5632\n",
      "Epoch 5/10\n",
      "444/444 [==============================] - 2235s 5s/step - loss: 0.6832 - accuracy: 0.5534 - val_loss: 0.6804 - val_accuracy: 0.5801\n",
      "Epoch 6/10\n",
      "444/444 [==============================] - 2207s 5s/step - loss: 0.6787 - accuracy: 0.5640 - val_loss: 0.6782 - val_accuracy: 0.5778\n",
      "Epoch 7/10\n",
      "444/444 [==============================] - 2198s 5s/step - loss: 0.6782 - accuracy: 0.5536 - val_loss: 0.6759 - val_accuracy: 0.5759\n",
      "Epoch 8/10\n",
      "444/444 [==============================] - 2206s 5s/step - loss: 0.6758 - accuracy: 0.5687 - val_loss: 0.6752 - val_accuracy: 0.5863\n",
      "Epoch 9/10\n",
      "444/444 [==============================] - 2205s 5s/step - loss: 0.6726 - accuracy: 0.5794 - val_loss: 0.6755 - val_accuracy: 0.5823\n",
      "Epoch 10/10\n",
      "444/444 [==============================] - 2210s 5s/step - loss: 0.6741 - accuracy: 0.5723 - val_loss: 0.6743 - val_accuracy: 0.5891\n"
     ]
    }
   ],
   "source": [
    "history = model.fit(\n",
    "    train_generator,\n",
    "    epochs=10,                      # Adjust epochs based on validation performance\n",
    "    validation_data=val_generator,\n",
    "    steps_per_epoch=len(train_generator),\n",
    "    validation_steps=len(val_generator),\n",
    "    callbacks=[early_stopping]       # Early stopping callback\n",
    ")"
   ]
  },
  {
   "cell_type": "markdown",
   "id": "4028c156-7241-4cea-b476-a1adc100a12d",
   "metadata": {},
   "source": [
    "# Model Evaluation"
   ]
  },
  {
   "cell_type": "code",
   "execution_count": 22,
   "id": "9a9744ed-67ce-4c43-b41f-a9ec86a57b37",
   "metadata": {},
   "outputs": [
    {
     "name": "stdout",
     "output_type": "stream",
     "text": [
      "111/111 [==============================] - 442s 4s/step - loss: 0.6705 - accuracy: 0.5964\n",
      "Validation Loss: 0.6705045700073242\n",
      "Validation Accuracy: 0.596446692943573\n"
     ]
    }
   ],
   "source": [
    "val_loss, val_accuracy = model.evaluate(val_generator)\n",
    "print(f\"Validation Loss: {val_loss}\")\n",
    "print(f\"Validation Accuracy: {val_accuracy}\")"
   ]
  },
  {
   "cell_type": "code",
   "execution_count": 23,
   "id": "35a430d1-1c9a-4fb6-83f0-d90a4657ed54",
   "metadata": {},
   "outputs": [
    {
     "data": {
      "image/png": "[encoded data removed]",
      "text/plain": [
       "<Figure size 1400x500 with 2 Axes>"
      ]
     },
     "metadata": {},
     "output_type": "display_data"
    }
   ],
   "source": [
    "# Plotting training & validation accuracy values\n",
    "plt.figure(figsize=(14, 5))\n",
    "\n",
    "# Plot accuracy\n",
    "plt.subplot(1, 2, 1)\n",
    "plt.plot(history.history['accuracy'], label='Train Accuracy')\n",
    "plt.plot(history.history['val_accuracy'], label='Validation Accuracy')\n",
    "plt.title('Model Accuracy')\n",
    "plt.ylabel('Accuracy')\n",
    "plt.xlabel('Epoch')\n",
    "plt.legend(loc='upper left')\n",
    "\n",
    "# Plot loss\n",
    "plt.subplot(1, 2, 2)\n",
    "plt.plot(history.history['loss'], label='Train Loss')\n",
    "plt.plot(history.history['val_loss'], label='Validation Loss')\n",
    "plt.title('Model Loss')\n",
    "plt.ylabel('Loss')\n",
    "plt.xlabel('Epoch')\n",
    "plt.legend(loc='upper left')\n",
    "\n",
    "plt.show()"
   ]
  },
  {
   "cell_type": "code",
   "execution_count": 27,
   "id": "4814a58e-0110-4030-95cf-1a8d1236ee20",
   "metadata": {},
   "outputs": [
    {
     "name": "stdout",
     "output_type": "stream",
     "text": [
      "111/111 [==============================] - 439s 4s/step\n"
     ]
    },
    {
     "data": {
      "image/png": "[encoded data removed]",
      "text/plain": [
       "<Figure size 600x400 with 1 Axes>"
      ]
     },
     "metadata": {},
     "output_type": "display_data"
    }
   ],
   "source": [
    "# Confusion Matrix of distribution of predicted and actual class labels\n",
    "\n",
    "from sklearn.metrics import confusion_matrix\n",
    "\n",
    "# Get true labels and predicted labels from validation set\n",
    "y_true = val_generator.classes\n",
    "y_pred = np.round(model.predict(val_generator))\n",
    "\n",
    "# Compute the confusion matrix\n",
    "cm = confusion_matrix(y_true, y_pred)\n",
    "\n",
    "# Plot the confusion matrix\n",
    "plt.figure(figsize=(6, 4))\n",
    "sns.heatmap(cm, annot=True, fmt='g', cmap='Blues', cbar=False)\n",
    "plt.title('Confusion Matrix')\n",
    "plt.xlabel('Predicted Label')\n",
    "plt.ylabel('True Label')\n",
    "plt.show()"
   ]
  }
 ],
 "metadata": {
  "kernelspec": {
   "display_name": "Python 3 (ipykernel)",
   "language": "python",
   "name": "python3"
  },
  "language_info": {
   "codemirror_mode": {
    "name": "ipython",
    "version": 3
   },
   "file_extension": ".py",
   "mimetype": "text/x-python",
   "name": "python",
   "nbconvert_exporter": "python",
   "pygments_lexer": "ipython3",
   "version": "3.9.15"
  }
 },
 "nbformat": 4,
 "nbformat_minor": 5
}
