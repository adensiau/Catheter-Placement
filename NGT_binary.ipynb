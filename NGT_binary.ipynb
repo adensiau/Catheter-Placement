{
 "cells": [
  {
   "cell_type": "code",
   "execution_count": 1,
   "id": "1150897d-d25a-426a-a4b0-62c2ad0ef255",
   "metadata": {},
   "outputs": [
    {
     "name": "stderr",
     "output_type": "stream",
     "text": [
      "2024-10-15 19:19:21.870504: I tensorflow/core/platform/cpu_feature_guard.cc:193] This TensorFlow binary is optimized with oneAPI Deep Neural Network Library (oneDNN) to use the following CPU instructions in performance-critical operations:  SSE4.1 SSE4.2 AVX AVX2 AVX512F FMA\n",
      "To enable them in other operations, rebuild TensorFlow with the appropriate compiler flags.\n"
     ]
    }
   ],
   "source": [
    "# import libraries\n",
    "import pandas as pd\n",
    "import numpy as np\n",
    "import matplotlib.pyplot as plt\n",
    "from sklearn.model_selection import train_test_split\n",
    "import seaborn as sns\n",
    "\n",
    "# modelling\n",
    "import tensorflow as tf\n",
    "from tensorflow.keras.applications import ResNet50, EfficientNetB0\n",
    "from tensorflow.keras.models import Sequential, Model\n",
    "from tensorflow.keras.layers import Dense, Flatten, Dropout, GlobalAveragePooling2D\n",
    "from tensorflow.keras.preprocessing.image import ImageDataGenerator\n",
    "from tensorflow.keras.callbacks import EarlyStopping\n",
    "from tensorflow.keras.optimizers import Adam\n",
    "from sklearn.utils import resample\n",
    "\n",
    "pd.set_option('display.max_colwidth', None)"
   ]
  },
  {
   "cell_type": "code",
   "execution_count": 2,
   "id": "fd883134-ff21-4789-9c27-bb45f3141346",
   "metadata": {},
   "outputs": [],
   "source": [
    "train_data = pd.read_csv('/projects/sc73/ranzcr-clip-catheter-line-classification/train.csv')\n",
    "train_annot = pd.read_csv('/projects/sc73/ranzcr-clip-catheter-line-classification/train_annotations.csv')"
   ]
  },
  {
   "cell_type": "markdown",
   "id": "1e6ba67f-0719-40fb-9ec1-6ab1bbf819f1",
   "metadata": {},
   "source": [
    "# Filtering data to only images with annotations"
   ]
  },
  {
   "cell_type": "code",
   "execution_count": 3,
   "id": "130a592b-aca6-48bf-844f-6f0bd5853a3a",
   "metadata": {},
   "outputs": [
    {
     "data": {
      "text/html": [
       "<div>\n",
       "<style scoped>\n",
       "    .dataframe tbody tr th:only-of-type {\n",
       "        vertical-align: middle;\n",
       "    }\n",
       "\n",
       "    .dataframe tbody tr th {\n",
       "        vertical-align: top;\n",
       "    }\n",
       "\n",
       "    .dataframe thead th {\n",
       "        text-align: right;\n",
       "    }\n",
       "</style>\n",
       "<table border=\"1\" class=\"dataframe\">\n",
       "  <thead>\n",
       "    <tr style=\"text-align: right;\">\n",
       "      <th></th>\n",
       "      <th>StudyInstanceUID</th>\n",
       "      <th>ETT - Abnormal</th>\n",
       "      <th>ETT - Borderline</th>\n",
       "      <th>ETT - Normal</th>\n",
       "      <th>NGT - Abnormal</th>\n",
       "      <th>NGT - Borderline</th>\n",
       "      <th>NGT - Incompletely Imaged</th>\n",
       "      <th>NGT - Normal</th>\n",
       "      <th>CVC - Abnormal</th>\n",
       "      <th>CVC - Borderline</th>\n",
       "      <th>CVC - Normal</th>\n",
       "      <th>Swan Ganz Catheter Present</th>\n",
       "      <th>PatientID</th>\n",
       "    </tr>\n",
       "  </thead>\n",
       "  <tbody>\n",
       "    <tr>\n",
       "      <th>2</th>\n",
       "      <td>1.2.826.0.1.3680043.8.498.23819260719748494858948050424870692577</td>\n",
       "      <td>0</td>\n",
       "      <td>0</td>\n",
       "      <td>0</td>\n",
       "      <td>0</td>\n",
       "      <td>0</td>\n",
       "      <td>0</td>\n",
       "      <td>0</td>\n",
       "      <td>0</td>\n",
       "      <td>1</td>\n",
       "      <td>0</td>\n",
       "      <td>0</td>\n",
       "      <td>3fc1c97e5</td>\n",
       "    </tr>\n",
       "  </tbody>\n",
       "</table>\n",
       "</div>"
      ],
      "text/plain": [
       "                                                   StudyInstanceUID  \\\n",
       "2  1.2.826.0.1.3680043.8.498.23819260719748494858948050424870692577   \n",
       "\n",
       "   ETT - Abnormal  ETT - Borderline  ETT - Normal  NGT - Abnormal  \\\n",
       "2               0                 0             0               0   \n",
       "\n",
       "   NGT - Borderline  NGT - Incompletely Imaged  NGT - Normal  CVC - Abnormal  \\\n",
       "2                 0                          0             0               0   \n",
       "\n",
       "   CVC - Borderline  CVC - Normal  Swan Ganz Catheter Present  PatientID  \n",
       "2                 1             0                           0  3fc1c97e5  "
      ]
     },
     "execution_count": 3,
     "metadata": {},
     "output_type": "execute_result"
    }
   ],
   "source": [
    "unique_annotated_images =  train_annot['StudyInstanceUID'].unique()\n",
    "annotated = train_data[train_data['StudyInstanceUID'].isin(unique_annotated_images)]\n",
    "annotated.head(1)"
   ]
  },
  {
   "cell_type": "markdown",
   "id": "90361056-21f6-4652-b472-71f6ab858703",
   "metadata": {},
   "source": [
    "# Creating Binary for NGT"
   ]
  },
  {
   "cell_type": "code",
   "execution_count": 4,
   "id": "d95a1e0b-1bd8-4a82-8bd6-2e99263db691",
   "metadata": {},
   "outputs": [
    {
     "data": {
      "text/html": [
       "<div>\n",
       "<style scoped>\n",
       "    .dataframe tbody tr th:only-of-type {\n",
       "        vertical-align: middle;\n",
       "    }\n",
       "\n",
       "    .dataframe tbody tr th {\n",
       "        vertical-align: top;\n",
       "    }\n",
       "\n",
       "    .dataframe thead th {\n",
       "        text-align: right;\n",
       "    }\n",
       "</style>\n",
       "<table border=\"1\" class=\"dataframe\">\n",
       "  <thead>\n",
       "    <tr style=\"text-align: right;\">\n",
       "      <th></th>\n",
       "      <th>StudyInstanceUID</th>\n",
       "      <th>ETT - Abnormal</th>\n",
       "      <th>ETT - Borderline</th>\n",
       "      <th>ETT - Normal</th>\n",
       "      <th>NGT - Abnormal</th>\n",
       "      <th>NGT - Borderline</th>\n",
       "      <th>NGT - Incompletely Imaged</th>\n",
       "      <th>NGT - Normal</th>\n",
       "      <th>CVC - Abnormal</th>\n",
       "      <th>CVC - Borderline</th>\n",
       "      <th>CVC - Normal</th>\n",
       "      <th>Swan Ganz Catheter Present</th>\n",
       "      <th>PatientID</th>\n",
       "      <th>NGT_binary</th>\n",
       "      <th>NGT_numeric</th>\n",
       "    </tr>\n",
       "  </thead>\n",
       "  <tbody>\n",
       "    <tr>\n",
       "      <th>2</th>\n",
       "      <td>1.2.826.0.1.3680043.8.498.23819260719748494858948050424870692577</td>\n",
       "      <td>0</td>\n",
       "      <td>0</td>\n",
       "      <td>0</td>\n",
       "      <td>0</td>\n",
       "      <td>0</td>\n",
       "      <td>0</td>\n",
       "      <td>0</td>\n",
       "      <td>0</td>\n",
       "      <td>1</td>\n",
       "      <td>0</td>\n",
       "      <td>0</td>\n",
       "      <td>3fc1c97e5</td>\n",
       "      <td>non-NGT</td>\n",
       "      <td>0</td>\n",
       "    </tr>\n",
       "  </tbody>\n",
       "</table>\n",
       "</div>"
      ],
      "text/plain": [
       "                                                   StudyInstanceUID  \\\n",
       "2  1.2.826.0.1.3680043.8.498.23819260719748494858948050424870692577   \n",
       "\n",
       "   ETT - Abnormal  ETT - Borderline  ETT - Normal  NGT - Abnormal  \\\n",
       "2               0                 0             0               0   \n",
       "\n",
       "   NGT - Borderline  NGT - Incompletely Imaged  NGT - Normal  CVC - Abnormal  \\\n",
       "2                 0                          0             0               0   \n",
       "\n",
       "   CVC - Borderline  CVC - Normal  Swan Ganz Catheter Present  PatientID  \\\n",
       "2                 1             0                           0  3fc1c97e5   \n",
       "\n",
       "  NGT_binary  NGT_numeric  \n",
       "2    non-NGT            0  "
      ]
     },
     "execution_count": 4,
     "metadata": {},
     "output_type": "execute_result"
    }
   ],
   "source": [
    "df = annotated.copy()\n",
    "\n",
    "def classify_ngt(row):\n",
    "    if row['NGT - Abnormal'] == 1 or row['NGT - Borderline'] == 1 or row['NGT - Normal'] == 1 or row['NGT - Incompletely Imaged'] == 1:\n",
    "        return 'NGT'  # Label as 'CVC'\n",
    "    else:\n",
    "        return 'non-NGT'  # Label as 'non-CVC'\n",
    "\n",
    "# Apply the function to create a new binary label column\n",
    "df['NGT_binary'] = df.apply(classify_ngt, axis=1)\n",
    "df['NGT_numeric'] = df['NGT_binary'].map({'NGT': 1, 'non-NGT': 0})\n",
    "df.head(1)"
   ]
  },
  {
   "cell_type": "code",
   "execution_count": 5,
   "id": "e549905a-0d7f-4e83-9fd7-e69fcf143426",
   "metadata": {},
   "outputs": [],
   "source": [
    "img_dir = \"/projects/sc73/ranzcr-clip-catheter-line-classification/train/\"\n",
    "df['filename'] = img_dir + df['StudyInstanceUID'].astype(str) + \".jpg\""
   ]
  },
  {
   "cell_type": "code",
   "execution_count": 6,
   "id": "b65a633e-a12e-469d-bef2-0a2cf64cb80b",
   "metadata": {},
   "outputs": [
    {
     "data": {
      "text/plain": [
       "NGT_numeric\n",
       "0    5918\n",
       "1    3177\n",
       "Name: count, dtype: int64"
      ]
     },
     "execution_count": 6,
     "metadata": {},
     "output_type": "execute_result"
    }
   ],
   "source": [
    "df['NGT_numeric'].value_counts()"
   ]
  },
  {
   "cell_type": "markdown",
   "id": "1f16ac15-02c3-4082-8ec9-c90ec11a6c59",
   "metadata": {},
   "source": [
    "# Modelling"
   ]
  },
  {
   "cell_type": "code",
   "execution_count": 7,
   "id": "632f1480-1a19-42c5-945f-f97a65736604",
   "metadata": {},
   "outputs": [
    {
     "name": "stdout",
     "output_type": "stream",
     "text": [
      "Found 7276 validated image filenames belonging to 2 classes.\n",
      "Found 1819 validated image filenames belonging to 2 classes.\n"
     ]
    }
   ],
   "source": [
    "# Data preprocessing and augmentation\n",
    "img_size = (224, 224)\n",
    "batch_size = 32\n",
    "validation_split = 0.2  # 20% of the data will be used for validation\n",
    "\n",
    "# Create a data generator with validation split\n",
    "datagen = ImageDataGenerator(\n",
    "    rescale=1./255,\n",
    "    rotation_range=20,\n",
    "    width_shift_range=0.2,\n",
    "    height_shift_range=0.2,\n",
    "    shear_range=0.2,\n",
    "    zoom_range=0.2,\n",
    "    horizontal_flip=True,\n",
    "    fill_mode='nearest',\n",
    "    validation_split=validation_split  # Set validation split\n",
    ")\n",
    "\n",
    "\n",
    "# Training generator (80% of the data)\n",
    "train_generator = datagen.flow_from_dataframe(\n",
    "    dataframe=df,\n",
    "    x_col='filename',         # Column with image file paths\n",
    "    y_col='NGT_binary',       # Use the new binary label column\n",
    "    target_size=(224, 224),\n",
    "    batch_size=32,\n",
    "    class_mode='binary',      # Binary classification\n",
    "    subset='training',\n",
    "    shuffle=True\n",
    ")\n",
    "\n",
    "\n",
    "\n",
    "# validation generator (20% of data)\n",
    "val_generator = datagen.flow_from_dataframe(\n",
    "    dataframe=df,\n",
    "    x_col='filename',         # Column with image file paths\n",
    "    y_col='NGT_binary',       # Use the new binary label column\n",
    "    target_size=(224, 224),\n",
    "    batch_size=32,\n",
    "    class_mode='binary',\n",
    "    subset='validation', # Use validation subset\n",
    "    shuffle = True\n",
    ")\n",
    "\n",
    "early_stopping = EarlyStopping(monitor='val_loss', patience=3, restore_best_weights=True)"
   ]
  },
  {
   "cell_type": "code",
   "execution_count": 8,
   "id": "3bd5f0ae-49d4-4fd0-8871-3779f11aaf1d",
   "metadata": {},
   "outputs": [
    {
     "name": "stderr",
     "output_type": "stream",
     "text": [
      "2024-10-15 19:19:40.439972: W tensorflow/compiler/xla/stream_executor/platform/default/dso_loader.cc:64] Could not load dynamic library 'libcuda.so.1'; dlerror: libcuda.so.1: cannot open shared object file: No such file or directory; LD_LIBRARY_PATH: /usr/local/cuda/11.0/extras/CUPTI/lib64:/usr/local/cuda/11.0/lib64:/usr/local/cuda/11.0/lib:/usr/local/cuda/11.0/lib64/stubs\n",
      "2024-10-15 19:19:40.440009: W tensorflow/compiler/xla/stream_executor/cuda/cuda_driver.cc:265] failed call to cuInit: UNKNOWN ERROR (303)\n",
      "2024-10-15 19:19:40.440029: I tensorflow/compiler/xla/stream_executor/cuda/cuda_diagnostics.cc:156] kernel driver does not appear to be running on this host (m3j010): /proc/driver/nvidia/version does not exist\n",
      "2024-10-15 19:19:40.442654: I tensorflow/core/platform/cpu_feature_guard.cc:193] This TensorFlow binary is optimized with oneAPI Deep Neural Network Library (oneDNN) to use the following CPU instructions in performance-critical operations:  SSE4.1 SSE4.2 AVX AVX2 AVX512F FMA\n",
      "To enable them in other operations, rebuild TensorFlow with the appropriate compiler flags.\n"
     ]
    }
   ],
   "source": [
    "resnet = ResNet50(weights='imagenet', include_top=False, input_shape=(224, 224, 3))\n",
    "\n",
    "# Freeze the ResNet50 layers to retain the pre-trained weights\n",
    "for layer in resnet.layers:\n",
    "    layer.trainable = False\n",
    "\n",
    "# Build the model\n",
    "model = Sequential()\n",
    "\n",
    "# Add the ResNet50 base model\n",
    "model.add(resnet)\n",
    "\n",
    "# Add global average pooling to reduce the feature maps\n",
    "model.add(GlobalAveragePooling2D())\n",
    "\n",
    "# Add a fully connected dense layer\n",
    "model.add(Dense(128, activation='relu'))\n",
    "model.add(Dropout(0.5))  # Add dropout to avoid overfitting\n",
    "\n",
    "# Add the output layer for binary classification\n",
    "model.add(Dense(1, activation='sigmoid'))  # Sigmoid for binary classification\n",
    "\n",
    "# Compile the model\n",
    "model.compile(optimizer=Adam(learning_rate=0.0001),  # Use a low learning rate for fine-tuning\n",
    "              loss='binary_crossentropy',  # Binary classification\n",
    "              metrics=['accuracy'])"
   ]
  },
  {
   "cell_type": "code",
   "execution_count": 9,
   "id": "c41ccbac-756f-4cba-ad2d-689b919e7d92",
   "metadata": {},
   "outputs": [
    {
     "name": "stdout",
     "output_type": "stream",
     "text": [
      "Epoch 1/10\n",
      "228/228 [==============================] - 1051s 5s/step - loss: 0.6815 - accuracy: 0.6203 - val_loss: 0.6378 - val_accuracy: 0.6537\n",
      "Epoch 2/10\n",
      "228/228 [==============================] - 1044s 5s/step - loss: 0.6468 - accuracy: 0.6462 - val_loss: 0.6345 - val_accuracy: 0.6537\n",
      "Epoch 3/10\n",
      "228/228 [==============================] - 1078s 5s/step - loss: 0.6406 - accuracy: 0.6501 - val_loss: 0.6322 - val_accuracy: 0.6537\n",
      "Epoch 4/10\n",
      "228/228 [==============================] - 1038s 5s/step - loss: 0.6363 - accuracy: 0.6497 - val_loss: 0.6292 - val_accuracy: 0.6537\n",
      "Epoch 5/10\n",
      "228/228 [==============================] - 1037s 5s/step - loss: 0.6323 - accuracy: 0.6504 - val_loss: 0.6269 - val_accuracy: 0.6537\n",
      "Epoch 6/10\n",
      "228/228 [==============================] - 1072s 5s/step - loss: 0.6285 - accuracy: 0.6512 - val_loss: 0.6259 - val_accuracy: 0.6537\n",
      "Epoch 7/10\n",
      "228/228 [==============================] - 1093s 5s/step - loss: 0.6280 - accuracy: 0.6499 - val_loss: 0.6265 - val_accuracy: 0.6537\n",
      "Epoch 8/10\n",
      "228/228 [==============================] - 1036s 5s/step - loss: 0.6255 - accuracy: 0.6517 - val_loss: 0.6176 - val_accuracy: 0.6537\n",
      "Epoch 9/10\n",
      "228/228 [==============================] - 1051s 5s/step - loss: 0.6236 - accuracy: 0.6497 - val_loss: 0.6184 - val_accuracy: 0.6537\n",
      "Epoch 10/10\n",
      "228/228 [==============================] - 970s 4s/step - loss: 0.6203 - accuracy: 0.6523 - val_loss: 0.6171 - val_accuracy: 0.6537\n"
     ]
    }
   ],
   "source": [
    "history = model.fit(\n",
    "    train_generator,\n",
    "    epochs=10,                      # Adjust epochs based on validation performance\n",
    "    validation_data=val_generator,\n",
    "    steps_per_epoch=len(train_generator),\n",
    "    validation_steps=len(val_generator),\n",
    "    callbacks=[early_stopping]       # Early stopping callback\n",
    ")"
   ]
  },
  {
   "cell_type": "code",
   "execution_count": 10,
   "id": "0406b9f9-519f-4954-8850-d500bb5aa1b3",
   "metadata": {},
   "outputs": [
    {
     "name": "stdout",
     "output_type": "stream",
     "text": [
      "57/57 [==============================] - 193s 3s/step - loss: 0.6139 - accuracy: 0.6537\n",
      "Validation Loss: 0.613928496837616\n",
      "Validation Accuracy: 0.6536558270454407\n"
     ]
    }
   ],
   "source": [
    "val_loss, val_accuracy = model.evaluate(val_generator)\n",
    "print(f\"Validation Loss: {val_loss}\")\n",
    "print(f\"Validation Accuracy: {val_accuracy}\")"
   ]
  },
  {
   "cell_type": "code",
   "execution_count": 11,
   "id": "2c6cbe0a-09e6-418b-bbc3-0965d68d66d9",
   "metadata": {},
   "outputs": [
    {
     "data": {
      "image/png": "[encoded data removed]",
      "text/plain": [
       "<Figure size 1400x500 with 2 Axes>"
      ]
     },
     "metadata": {},
     "output_type": "display_data"
    }
   ],
   "source": [
    "# Plotting training & validation accuracy values\n",
    "plt.figure(figsize=(14, 5))\n",
    "\n",
    "# Plot accuracy\n",
    "plt.subplot(1, 2, 1)\n",
    "plt.plot(history.history['accuracy'], label='Train Accuracy')\n",
    "plt.plot(history.history['val_accuracy'], label='Validation Accuracy')\n",
    "plt.title('Model Accuracy')\n",
    "plt.ylabel('Accuracy')\n",
    "plt.xlabel('Epoch')\n",
    "plt.legend(loc='upper left')\n",
    "\n",
    "# Plot loss\n",
    "plt.subplot(1, 2, 2)\n",
    "plt.plot(history.history['loss'], label='Train Loss')\n",
    "plt.plot(history.history['val_loss'], label='Validation Loss')\n",
    "plt.title('Model Loss')\n",
    "plt.ylabel('Loss')\n",
    "plt.xlabel('Epoch')\n",
    "plt.legend(loc='upper left')\n",
    "\n",
    "plt.show()"
   ]
  },
  {
   "cell_type": "code",
   "execution_count": 12,
   "id": "dee182e7-ad69-4345-948e-6c080c1d6f7e",
   "metadata": {},
   "outputs": [
    {
     "name": "stdout",
     "output_type": "stream",
     "text": [
      "57/57 [==============================] - 193s 3s/step\n"
     ]
    },
    {
     "data": {
      "image/png": "[encoded data removed]",
      "text/plain": [
       "<Figure size 600x400 with 1 Axes>"
      ]
     },
     "metadata": {},
     "output_type": "display_data"
    }
   ],
   "source": [
    "# Confusion Matrix of distribution of predicted and actual class labels\n",
    "\n",
    "from sklearn.metrics import confusion_matrix\n",
    "\n",
    "# Get true labels and predicted labels from validation set\n",
    "y_true = val_generator.classes\n",
    "y_pred = np.round(model.predict(val_generator))\n",
    "\n",
    "# Compute the confusion matrix\n",
    "cm = confusion_matrix(y_true, y_pred)\n",
    "\n",
    "# Plot the confusion matrix\n",
    "plt.figure(figsize=(6, 4))\n",
    "sns.heatmap(cm, annot=True, fmt='g', cmap='Blues', cbar=False)\n",
    "plt.title('Confusion Matrix')\n",
    "plt.xlabel('Predicted Label')\n",
    "plt.ylabel('True Label')\n",
    "plt.show()"
   ]
  }
 ],
 "metadata": {
  "kernelspec": {
   "display_name": "Python 3 (ipykernel)",
   "language": "python",
   "name": "python3"
  },
  "language_info": {
   "codemirror_mode": {
    "name": "ipython",
    "version": 3
   },
   "file_extension": ".py",
   "mimetype": "text/x-python",
   "name": "python",
   "nbconvert_exporter": "python",
   "pygments_lexer": "ipython3",
   "version": "3.9.15"
  }
 },
 "nbformat": 4,
 "nbformat_minor": 5
}
