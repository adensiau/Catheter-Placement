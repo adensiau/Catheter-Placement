{
 "cells": [
  {
   "cell_type": "code",
   "execution_count": 1,
   "id": "e37c65f7-56c7-476a-a212-a5be1d178054",
   "metadata": {},
   "outputs": [
    {
     "name": "stderr",
     "output_type": "stream",
     "text": [
      "2024-10-14 23:42:31.306771: I tensorflow/core/platform/cpu_feature_guard.cc:193] This TensorFlow binary is optimized with oneAPI Deep Neural Network Library (oneDNN) to use the following CPU instructions in performance-critical operations:  SSE4.1 SSE4.2 AVX AVX2 AVX512F FMA\n",
      "To enable them in other operations, rebuild TensorFlow with the appropriate compiler flags.\n"
     ]
    }
   ],
   "source": [
    "# import libraries\n",
    "import pandas as pd\n",
    "import numpy as np\n",
    "import matplotlib.pyplot as plt\n",
    "from sklearn.model_selection import train_test_split\n",
    "import seaborn as sns\n",
    "\n",
    "# modelling\n",
    "import tensorflow as tf\n",
    "from tensorflow.keras.applications import ResNet50, EfficientNetB0\n",
    "from tensorflow.keras.models import Sequential, Model\n",
    "from tensorflow.keras.layers import Dense, Flatten, Dropout, GlobalAveragePooling2D\n",
    "from tensorflow.keras.preprocessing.image import ImageDataGenerator\n",
    "from tensorflow.keras.callbacks import EarlyStopping\n",
    "from tensorflow.keras.optimizers import Adam\n",
    "from sklearn.utils import resample\n",
    "\n",
    "pd.set_option('display.max_colwidth', None)"
   ]
  },
  {
   "cell_type": "code",
   "execution_count": 2,
   "id": "f4f0126c-7b69-411b-85ab-e3650949f3c3",
   "metadata": {},
   "outputs": [],
   "source": [
    "train_data = pd.read_csv('/projects/sc73/ranzcr-clip-catheter-line-classification/train.csv')\n",
    "train_annot = pd.read_csv('/projects/sc73/ranzcr-clip-catheter-line-classification/train_annotations.csv')"
   ]
  },
  {
   "cell_type": "code",
   "execution_count": 3,
   "id": "bf77a1fd-4a55-4f91-bf74-3da7eaada6fa",
   "metadata": {},
   "outputs": [
    {
     "data": {
      "text/html": [
       "<div>\n",
       "<style scoped>\n",
       "    .dataframe tbody tr th:only-of-type {\n",
       "        vertical-align: middle;\n",
       "    }\n",
       "\n",
       "    .dataframe tbody tr th {\n",
       "        vertical-align: top;\n",
       "    }\n",
       "\n",
       "    .dataframe thead th {\n",
       "        text-align: right;\n",
       "    }\n",
       "</style>\n",
       "<table border=\"1\" class=\"dataframe\">\n",
       "  <thead>\n",
       "    <tr style=\"text-align: right;\">\n",
       "      <th></th>\n",
       "      <th>StudyInstanceUID</th>\n",
       "      <th>ETT - Abnormal</th>\n",
       "      <th>ETT - Borderline</th>\n",
       "      <th>ETT - Normal</th>\n",
       "      <th>NGT - Abnormal</th>\n",
       "      <th>NGT - Borderline</th>\n",
       "      <th>NGT - Incompletely Imaged</th>\n",
       "      <th>NGT - Normal</th>\n",
       "      <th>CVC - Abnormal</th>\n",
       "      <th>CVC - Borderline</th>\n",
       "      <th>CVC - Normal</th>\n",
       "      <th>Swan Ganz Catheter Present</th>\n",
       "      <th>PatientID</th>\n",
       "    </tr>\n",
       "  </thead>\n",
       "  <tbody>\n",
       "    <tr>\n",
       "      <th>2</th>\n",
       "      <td>1.2.826.0.1.3680043.8.498.23819260719748494858948050424870692577</td>\n",
       "      <td>0</td>\n",
       "      <td>0</td>\n",
       "      <td>0</td>\n",
       "      <td>0</td>\n",
       "      <td>0</td>\n",
       "      <td>0</td>\n",
       "      <td>0</td>\n",
       "      <td>0</td>\n",
       "      <td>1</td>\n",
       "      <td>0</td>\n",
       "      <td>0</td>\n",
       "      <td>3fc1c97e5</td>\n",
       "    </tr>\n",
       "  </tbody>\n",
       "</table>\n",
       "</div>"
      ],
      "text/plain": [
       "                                                   StudyInstanceUID  \\\n",
       "2  1.2.826.0.1.3680043.8.498.23819260719748494858948050424870692577   \n",
       "\n",
       "   ETT - Abnormal  ETT - Borderline  ETT - Normal  NGT - Abnormal  \\\n",
       "2               0                 0             0               0   \n",
       "\n",
       "   NGT - Borderline  NGT - Incompletely Imaged  NGT - Normal  CVC - Abnormal  \\\n",
       "2                 0                          0             0               0   \n",
       "\n",
       "   CVC - Borderline  CVC - Normal  Swan Ganz Catheter Present  PatientID  \n",
       "2                 1             0                           0  3fc1c97e5  "
      ]
     },
     "execution_count": 3,
     "metadata": {},
     "output_type": "execute_result"
    }
   ],
   "source": [
    "unique_annotated_images =  train_annot['StudyInstanceUID'].unique()\n",
    "annotated = train_data[train_data['StudyInstanceUID'].isin(unique_annotated_images)]\n",
    "annotated.head(1)"
   ]
  },
  {
   "cell_type": "code",
   "execution_count": 4,
   "id": "86c89a88-a1a4-4f67-ab77-66490a815522",
   "metadata": {},
   "outputs": [
    {
     "data": {
      "text/html": [
       "<div>\n",
       "<style scoped>\n",
       "    .dataframe tbody tr th:only-of-type {\n",
       "        vertical-align: middle;\n",
       "    }\n",
       "\n",
       "    .dataframe tbody tr th {\n",
       "        vertical-align: top;\n",
       "    }\n",
       "\n",
       "    .dataframe thead th {\n",
       "        text-align: right;\n",
       "    }\n",
       "</style>\n",
       "<table border=\"1\" class=\"dataframe\">\n",
       "  <thead>\n",
       "    <tr style=\"text-align: right;\">\n",
       "      <th></th>\n",
       "      <th>StudyInstanceUID</th>\n",
       "      <th>ETT - Abnormal</th>\n",
       "      <th>ETT - Borderline</th>\n",
       "      <th>ETT - Normal</th>\n",
       "      <th>NGT - Abnormal</th>\n",
       "      <th>NGT - Borderline</th>\n",
       "      <th>NGT - Incompletely Imaged</th>\n",
       "      <th>NGT - Normal</th>\n",
       "      <th>CVC - Abnormal</th>\n",
       "      <th>CVC - Borderline</th>\n",
       "      <th>CVC - Normal</th>\n",
       "      <th>Swan Ganz Catheter Present</th>\n",
       "      <th>PatientID</th>\n",
       "      <th>ETT_binary</th>\n",
       "      <th>ETT_numeric</th>\n",
       "    </tr>\n",
       "  </thead>\n",
       "  <tbody>\n",
       "    <tr>\n",
       "      <th>2</th>\n",
       "      <td>1.2.826.0.1.3680043.8.498.23819260719748494858948050424870692577</td>\n",
       "      <td>0</td>\n",
       "      <td>0</td>\n",
       "      <td>0</td>\n",
       "      <td>0</td>\n",
       "      <td>0</td>\n",
       "      <td>0</td>\n",
       "      <td>0</td>\n",
       "      <td>0</td>\n",
       "      <td>1</td>\n",
       "      <td>0</td>\n",
       "      <td>0</td>\n",
       "      <td>3fc1c97e5</td>\n",
       "      <td>non-ETT</td>\n",
       "      <td>0</td>\n",
       "    </tr>\n",
       "  </tbody>\n",
       "</table>\n",
       "</div>"
      ],
      "text/plain": [
       "                                                   StudyInstanceUID  \\\n",
       "2  1.2.826.0.1.3680043.8.498.23819260719748494858948050424870692577   \n",
       "\n",
       "   ETT - Abnormal  ETT - Borderline  ETT - Normal  NGT - Abnormal  \\\n",
       "2               0                 0             0               0   \n",
       "\n",
       "   NGT - Borderline  NGT - Incompletely Imaged  NGT - Normal  CVC - Abnormal  \\\n",
       "2                 0                          0             0               0   \n",
       "\n",
       "   CVC - Borderline  CVC - Normal  Swan Ganz Catheter Present  PatientID  \\\n",
       "2                 1             0                           0  3fc1c97e5   \n",
       "\n",
       "  ETT_binary  ETT_numeric  \n",
       "2    non-ETT            0  "
      ]
     },
     "execution_count": 4,
     "metadata": {},
     "output_type": "execute_result"
    }
   ],
   "source": [
    "df = annotated.copy()\n",
    "\n",
    "def classify_ett(row):\n",
    "    if row['ETT - Abnormal'] == 1 or row['ETT - Borderline'] == 1 or row['ETT - Normal'] == 1:\n",
    "        return 'ETT'  # Label as 'CVC'\n",
    "    else:\n",
    "        return 'non-ETT'  # Label as 'non-CVC'\n",
    "\n",
    "# Apply the function to create a new binary label column\n",
    "df['ETT_binary'] = df.apply(classify_ett, axis=1)\n",
    "df['ETT_numeric'] = df['ETT_binary'].map({'ETT': 1, 'non-ETT': 0})\n",
    "df.head(1)"
   ]
  },
  {
   "cell_type": "code",
   "execution_count": 5,
   "id": "f521ea7a-e925-4f54-9af1-a76aa0aec355",
   "metadata": {},
   "outputs": [],
   "source": [
    "img_dir = \"/projects/sc73/ranzcr-clip-catheter-line-classification/train/\"\n",
    "df['filename'] = img_dir + df['StudyInstanceUID'].astype(str) + \".jpg\""
   ]
  },
  {
   "cell_type": "code",
   "execution_count": 6,
   "id": "f5a493ce-0779-41b8-b5b3-61ee2089e359",
   "metadata": {},
   "outputs": [
    {
     "data": {
      "text/plain": [
       "ETT_numeric\n",
       "0    6101\n",
       "1    2994\n",
       "Name: count, dtype: int64"
      ]
     },
     "execution_count": 6,
     "metadata": {},
     "output_type": "execute_result"
    }
   ],
   "source": [
    "df['ETT_numeric'].value_counts()"
   ]
  },
  {
   "cell_type": "code",
   "execution_count": 8,
   "id": "b7a92fb8-1f81-4e7c-94ee-7bee344a4a98",
   "metadata": {},
   "outputs": [
    {
     "data": {
      "text/plain": [
       "ETT_numeric\n",
       "0    2994\n",
       "1    2994\n",
       "Name: count, dtype: int64"
      ]
     },
     "execution_count": 8,
     "metadata": {},
     "output_type": "execute_result"
    }
   ],
   "source": [
    "non_ETT = df[df['ETT_numeric'] == 0]\n",
    "ETT = df[df['ETT_numeric'] == 1]\n",
    "\n",
    "\n",
    "non_ETT_bal = resample(non_ETT, \n",
    "                       replace=True,    \n",
    "                       n_samples=int(len(ETT)),  \n",
    "                       random_state=42)\n",
    "ETT_bal = resample(ETT,\n",
    "                   replace=True,\n",
    "                   n_samples=int(len(ETT)),\n",
    "                   random_state=42)\n",
    "\n",
    "bal_df = pd.concat([ETT_bal, non_ETT_bal])\n",
    "bal_df = bal_df.sample(frac=1, random_state=42).reset_index(drop=True)\n",
    "bal_df['ETT_numeric'].value_counts()"
   ]
  },
  {
   "cell_type": "code",
   "execution_count": 9,
   "id": "b0feb2e7-d52a-49e1-a483-6a2219189038",
   "metadata": {},
   "outputs": [
    {
     "name": "stdout",
     "output_type": "stream",
     "text": [
      "Found 4791 validated image filenames belonging to 2 classes.\n",
      "Found 1197 validated image filenames belonging to 2 classes.\n"
     ]
    }
   ],
   "source": [
    "# Data preprocessing and augmentation\n",
    "img_size = (224, 224)\n",
    "batch_size = 32\n",
    "validation_split = 0.2  # 20% of the data will be used for validation\n",
    "\n",
    "# Create a data generator with validation split\n",
    "datagen = ImageDataGenerator(\n",
    "    rescale=1./255,\n",
    "    rotation_range=20,\n",
    "    width_shift_range=0.2,\n",
    "    height_shift_range=0.2,\n",
    "    shear_range=0.2,\n",
    "    zoom_range=0.2,\n",
    "    horizontal_flip=True,\n",
    "    fill_mode='nearest',\n",
    "    validation_split=validation_split  # Set validation split\n",
    ")\n",
    "\n",
    "\n",
    "# Training generator (80% of the data)\n",
    "train_generator = datagen.flow_from_dataframe(\n",
    "    dataframe=bal_df,\n",
    "    x_col='filename',         # Column with image file paths\n",
    "    y_col='ETT_binary',       # Use the new binary label column\n",
    "    target_size=(224, 224),\n",
    "    batch_size=32,\n",
    "    class_mode='binary',      # Binary classification\n",
    "    subset='training',\n",
    "    shuffle=True\n",
    ")\n",
    "\n",
    "\n",
    "\n",
    "# validation generator (20% of data)\n",
    "val_generator = datagen.flow_from_dataframe(\n",
    "    dataframe=bal_df,\n",
    "    x_col='filename',         # Column with image file paths\n",
    "    y_col='ETT_binary',       # Use the new binary label column\n",
    "    target_size=(224, 224),\n",
    "    batch_size=32,\n",
    "    class_mode='binary',\n",
    "    subset='validation', # Use validation subset\n",
    "    shuffle = True\n",
    ")\n",
    "\n",
    "early_stopping = EarlyStopping(monitor='val_loss', patience=3, restore_best_weights=True)"
   ]
  },
  {
   "cell_type": "code",
   "execution_count": 10,
   "id": "27cbad8e-f1e9-4662-a24c-b52b268f9dc3",
   "metadata": {},
   "outputs": [
    {
     "name": "stderr",
     "output_type": "stream",
     "text": [
      "2024-10-14 23:47:28.402129: W tensorflow/compiler/xla/stream_executor/platform/default/dso_loader.cc:64] Could not load dynamic library 'libcuda.so.1'; dlerror: libcuda.so.1: cannot open shared object file: No such file or directory; LD_LIBRARY_PATH: /usr/local/cuda/11.0/extras/CUPTI/lib64:/usr/local/cuda/11.0/lib64:/usr/local/cuda/11.0/lib:/usr/local/cuda/11.0/lib64/stubs\n",
      "2024-10-14 23:47:28.402172: W tensorflow/compiler/xla/stream_executor/cuda/cuda_driver.cc:265] failed call to cuInit: UNKNOWN ERROR (303)\n",
      "2024-10-14 23:47:28.402192: I tensorflow/compiler/xla/stream_executor/cuda/cuda_diagnostics.cc:156] kernel driver does not appear to be running on this host (m3i012): /proc/driver/nvidia/version does not exist\n",
      "2024-10-14 23:47:28.402578: I tensorflow/core/platform/cpu_feature_guard.cc:193] This TensorFlow binary is optimized with oneAPI Deep Neural Network Library (oneDNN) to use the following CPU instructions in performance-critical operations:  SSE4.1 SSE4.2 AVX AVX2 AVX512F FMA\n",
      "To enable them in other operations, rebuild TensorFlow with the appropriate compiler flags.\n"
     ]
    }
   ],
   "source": [
    "resnet = ResNet50(weights='imagenet', include_top=False, input_shape=(224, 224, 3))\n",
    "\n",
    "# Freeze the ResNet50 layers to retain the pre-trained weights\n",
    "for layer in resnet.layers:\n",
    "    layer.trainable = False\n",
    "\n",
    "# Build the model\n",
    "model = Sequential()\n",
    "\n",
    "# Add the ResNet50 base model\n",
    "model.add(resnet)\n",
    "\n",
    "# Add global average pooling to reduce the feature maps\n",
    "model.add(GlobalAveragePooling2D())\n",
    "\n",
    "# Add a fully connected dense layer\n",
    "model.add(Dense(128, activation='relu'))\n",
    "model.add(Dropout(0.5))  # Add dropout to avoid overfitting\n",
    "\n",
    "# Add the output layer for binary classification\n",
    "model.add(Dense(1, activation='sigmoid'))  # Sigmoid for binary classification\n",
    "\n",
    "# Compile the model\n",
    "model.compile(optimizer=Adam(learning_rate=0.0001),  # Use a low learning rate for fine-tuning\n",
    "              loss='binary_crossentropy',  # Binary classification\n",
    "              metrics=['accuracy'])"
   ]
  },
  {
   "cell_type": "code",
   "execution_count": 11,
   "id": "6420e514-d338-431a-9689-b83ef3ed68bb",
   "metadata": {},
   "outputs": [
    {
     "name": "stdout",
     "output_type": "stream",
     "text": [
      "Epoch 1/10\n",
      "150/150 [==============================] - 768s 5s/step - loss: 0.7669 - accuracy: 0.5016 - val_loss: 0.6910 - val_accuracy: 0.4937\n",
      "Epoch 2/10\n",
      "150/150 [==============================] - 749s 5s/step - loss: 0.7064 - accuracy: 0.5122 - val_loss: 0.6837 - val_accuracy: 0.5990\n",
      "Epoch 3/10\n",
      "150/150 [==============================] - 733s 5s/step - loss: 0.6893 - accuracy: 0.5348 - val_loss: 0.6810 - val_accuracy: 0.6291\n",
      "Epoch 4/10\n",
      "150/150 [==============================] - 723s 5s/step - loss: 0.6842 - accuracy: 0.5571 - val_loss: 0.6787 - val_accuracy: 0.6107\n",
      "Epoch 5/10\n",
      "150/150 [==============================] - 721s 5s/step - loss: 0.6845 - accuracy: 0.5431 - val_loss: 0.6765 - val_accuracy: 0.5865\n",
      "Epoch 6/10\n",
      "150/150 [==============================] - 723s 5s/step - loss: 0.6797 - accuracy: 0.5748 - val_loss: 0.6762 - val_accuracy: 0.5748\n",
      "Epoch 7/10\n",
      "150/150 [==============================] - 719s 5s/step - loss: 0.6774 - accuracy: 0.5757 - val_loss: 0.6795 - val_accuracy: 0.4937\n",
      "Epoch 8/10\n",
      "150/150 [==============================] - 722s 5s/step - loss: 0.6774 - accuracy: 0.5744 - val_loss: 0.6727 - val_accuracy: 0.6332\n",
      "Epoch 9/10\n",
      "150/150 [==============================] - 725s 5s/step - loss: 0.6760 - accuracy: 0.5709 - val_loss: 0.6708 - val_accuracy: 0.6324\n",
      "Epoch 10/10\n",
      "150/150 [==============================] - 727s 5s/step - loss: 0.6710 - accuracy: 0.5907 - val_loss: 0.6688 - val_accuracy: 0.6140\n"
     ]
    }
   ],
   "source": [
    "history = model.fit(\n",
    "    train_generator,\n",
    "    epochs=10,                      # Adjust epochs based on validation performance\n",
    "    validation_data=val_generator,\n",
    "    steps_per_epoch=len(train_generator),\n",
    "    validation_steps=len(val_generator),\n",
    "    callbacks=[early_stopping]       # Early stopping callback\n",
    ")"
   ]
  },
  {
   "cell_type": "code",
   "execution_count": 12,
   "id": "c5de5785-fa2a-4940-a96d-7aa0544e3dd0",
   "metadata": {},
   "outputs": [
    {
     "name": "stdout",
     "output_type": "stream",
     "text": [
      "38/38 [==============================] - 146s 4s/step - loss: 0.6691 - accuracy: 0.6182\n",
      "Validation Loss: 0.6691277027130127\n",
      "Validation Accuracy: 0.6182122230529785\n"
     ]
    }
   ],
   "source": [
    "val_loss, val_accuracy = model.evaluate(val_generator)\n",
    "print(f\"Validation Loss: {val_loss}\")\n",
    "print(f\"Validation Accuracy: {val_accuracy}\")"
   ]
  },
  {
   "cell_type": "code",
   "execution_count": 13,
   "id": "ca9a0485-3ac3-46a9-8fe4-1303a2ef8bda",
   "metadata": {},
   "outputs": [
    {
     "data": {
      "image/png": "[encoded data removed]",
      "text/plain": [
       "<Figure size 1400x500 with 2 Axes>"
      ]
     },
     "metadata": {},
     "output_type": "display_data"
    }
   ],
   "source": [
    "# Plotting training & validation accuracy values\n",
    "plt.figure(figsize=(14, 5))\n",
    "\n",
    "# Plot accuracy\n",
    "plt.subplot(1, 2, 1)\n",
    "plt.plot(history.history['accuracy'], label='Train Accuracy')\n",
    "plt.plot(history.history['val_accuracy'], label='Validation Accuracy')\n",
    "plt.title('Model Accuracy')\n",
    "plt.ylabel('Accuracy')\n",
    "plt.xlabel('Epoch')\n",
    "plt.legend(loc='upper left')\n",
    "\n",
    "# Plot loss\n",
    "plt.subplot(1, 2, 2)\n",
    "plt.plot(history.history['loss'], label='Train Loss')\n",
    "plt.plot(history.history['val_loss'], label='Validation Loss')\n",
    "plt.title('Model Loss')\n",
    "plt.ylabel('Loss')\n",
    "plt.xlabel('Epoch')\n",
    "plt.legend(loc='upper left')\n",
    "\n",
    "plt.show()"
   ]
  },
  {
   "cell_type": "code",
   "execution_count": 14,
   "id": "7e8f4dc4-5943-450a-94f8-ae50394ef6d3",
   "metadata": {},
   "outputs": [
    {
     "name": "stdout",
     "output_type": "stream",
     "text": [
      "38/38 [==============================] - 147s 4s/step\n"
     ]
    },
    {
     "data": {
      "image/png": "[encoded data removed]",
      "text/plain": [
       "<Figure size 600x400 with 1 Axes>"
      ]
     },
     "metadata": {},
     "output_type": "display_data"
    }
   ],
   "source": [
    "# Confusion Matrix of distribution of predicted and actual class labels\n",
    "\n",
    "from sklearn.metrics import confusion_matrix\n",
    "\n",
    "# Get true labels and predicted labels from validation set\n",
    "y_true = val_generator.classes\n",
    "y_pred = np.round(model.predict(val_generator))\n",
    "\n",
    "# Compute the confusion matrix\n",
    "cm = confusion_matrix(y_true, y_pred)\n",
    "\n",
    "# Plot the confusion matrix\n",
    "plt.figure(figsize=(6, 4))\n",
    "sns.heatmap(cm, annot=True, fmt='g', cmap='Blues', cbar=False)\n",
    "plt.title('Confusion Matrix')\n",
    "plt.xlabel('Predicted Label')\n",
    "plt.ylabel('True Label')\n",
    "plt.show()"
   ]
  },
  {
   "cell_type": "code",
   "execution_count": null,
   "id": "1a305e57-a715-491d-9ced-ec74213911c6",
   "metadata": {},
   "outputs": [],
   "source": []
  }
 ],
 "metadata": {
  "kernelspec": {
   "display_name": "Python 3 (ipykernel)",
   "language": "python",
   "name": "python3"
  },
  "language_info": {
   "codemirror_mode": {
    "name": "ipython",
    "version": 3
   },
   "file_extension": ".py",
   "mimetype": "text/x-python",
   "name": "python",
   "nbconvert_exporter": "python",
   "pygments_lexer": "ipython3",
   "version": "3.9.15"
  }
 },
 "nbformat": 4,
 "nbformat_minor": 5
}
